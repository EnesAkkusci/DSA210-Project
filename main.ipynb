{
 "cells": [
  {
   "cell_type": "markdown",
   "metadata": {},
   "source": [
    "# Data\n",
    "\n",
    "The main data I will use in this project comes from YouTube which is my watch history data. It was sent by YouTube per my request in html format. Since I intend to use pandas and plotly for data visualasation purposes the first order of business will be to clean up the html data and convert it to csv format."
   ]
  },
  {
   "cell_type": "markdown",
   "metadata": {},
   "source": [
    "# Ads\n",
    "\n",
    "The html file containing the data related to my watch history also included the ads I watche. Below I clean the data of those ads which there were about 9.5k ads among the 55k total videos I have watched."
   ]
  },
  {
   "cell_type": "code",
   "execution_count": 4,
   "metadata": {},
   "outputs": [
    {
     "name": "stdout",
     "output_type": "stream",
     "text": [
      "File found: Data\\izleme geçmişi.html\n",
      "Found 9568 ads\n",
      "Cleaned HTML saved to Data\\addfree_data.html\n"
     ]
    }
   ],
   "source": [
    "from pathlib import Path\n",
    "from bs4 import BeautifulSoup\n",
    "import lxml\n",
    "\n",
    "# Define the path to the HTML file\n",
    "data_file = Path(\"Data\") / \"izleme geçmişi.html\"\n",
    "\n",
    "# Check if the file exists\n",
    "if data_file.exists():\n",
    "    print(f\"File found: {data_file}\")\n",
    "else:\n",
    "    print(\"File not found!\")\n",
    "\n",
    "# Open and parse the file\n",
    "with open(data_file, \"r\", encoding=\"utf-8\") as file:\n",
    "    soup = BeautifulSoup(file, \"lxml\")\n",
    "\n",
    "ads = soup.find_all(string=lambda text: text and \"Google Reklamlar\" in text.replace(\"\\xa0\", \" \").strip())\n",
    "print(f\"Found {len(ads)} ads\")  # Debugging: Output the number of matches\n",
    "\n",
    "for ad in ads:\n",
    "    ad_div = ad.find_parent(\"div\", class_=lambda classes: classes and \"outer-cell\" in classes and \"mdl-cell--12-col\" in classes)\n",
    "    if ad_div:\n",
    "        ad_div.decompose()\n",
    "\n",
    "\n",
    "# Save the cleaned chunk\n",
    "cleaned_data_path = Path(\"Data\") / \"addfree_data.html\"\n",
    "with open(cleaned_data_path, \"w\", encoding=\"utf-8\") as file:\n",
    "    file.write(soup.prettify())\n",
    "\n",
    "print(f\"Cleaned HTML saved to {cleaned_data_path}\")"
   ]
  },
  {
   "cell_type": "markdown",
   "metadata": {},
   "source": [
    "# Community Posts\n",
    "\n",
    "Next step of cleaning the view history data provided by YouTube is to remove the viewed community posts records as they might inflate the data regarding my usage."
   ]
  },
  {
   "cell_type": "code",
   "execution_count": 5,
   "metadata": {},
   "outputs": [
    {
     "name": "stdout",
     "output_type": "stream",
     "text": [
      "Found 1252 community post records.\n",
      "Cleaned HTML saved to Data\\ncp_nadd_data.html\n"
     ]
    }
   ],
   "source": [
    "from pathlib import Path\n",
    "from bs4 import BeautifulSoup\n",
    "import lxml\n",
    "\n",
    "# Define the path to the cleaned HTML file\n",
    "data_file = Path(\"Data\") / \"addfree_data.html\"\n",
    "\n",
    "# Open and parse the file\n",
    "with open(data_file, \"r\", encoding=\"utf-8\") as file:\n",
    "    soup = BeautifulSoup(file, \"lxml\")  # Using lxml for faster parsing\n",
    "\n",
    "# Find all strings containing \"yayını görüntülendi\"\n",
    "posts = soup.find_all(string=lambda text: text and \"yayını görüntülendi\" in text)\n",
    "\n",
    "print(f\"Found {len(posts)} community post records.\")  # Debugging: Output the number of matches\n",
    "\n",
    "# Remove parent divs containing these records\n",
    "for post in posts:\n",
    "    post_div = post.find_parent(\"div\", class_=lambda classes: classes and \"outer-cell\" in classes and \"mdl-cell--12-col\" in classes)\n",
    "    if post_div:\n",
    "        post_div.decompose()\n",
    "\n",
    "# Save the cleaned HTML\n",
    "cleaned_file_path = Path(\"Data\") / \"ncp_nadd_data.html\"\n",
    "with open(cleaned_file_path, \"w\", encoding=\"utf-8\") as file:\n",
    "    file.write(soup.prettify())\n",
    "\n",
    "print(f\"Cleaned HTML saved to {cleaned_file_path}\")\n"
   ]
  },
  {
   "cell_type": "markdown",
   "metadata": {},
   "source": [
    "# Conversion to CSV\n",
    "\n",
    "Now that we have a relatively clean data at hand, I converted the html file to csv to be able to utilize pandas and plotly for data visualazation."
   ]
  },
  {
   "cell_type": "code",
   "execution_count": 5,
   "metadata": {},
   "outputs": [
    {
     "name": "stdout",
     "output_type": "stream",
     "text": [
      "Data successfully saved to Data\\watch_data.csv\n"
     ]
    }
   ],
   "source": [
    "from pathlib import Path\n",
    "from bs4 import BeautifulSoup\n",
    "import csv\n",
    "import re\n",
    "\n",
    "# Define the path to the cleaned HTML file and output CSV\n",
    "data_file = Path(\"Data\") / \"ncp_nadd_data.html\"\n",
    "csv_file = Path(\"Data\") / \"watch_data.csv\"\n",
    "\n",
    "# Parse the HTML file\n",
    "with open(data_file, \"r\", encoding=\"utf-8\") as file:\n",
    "    soup = BeautifulSoup(file, \"lxml\")\n",
    "\n",
    "# Prepare to store extracted data\n",
    "data = []\n",
    "\n",
    "# Find all video entries\n",
    "entries = soup.find_all(\"div\", class_=\"outer-cell mdl-cell mdl-cell--12-col mdl-shadow--2dp\")\n",
    "\n",
    "for entry in entries:\n",
    "    # Extract video name and video URL (from the first <a> tag)\n",
    "    video_name_tag = entry.find(\"a\", href=True)\n",
    "    video_name = video_name_tag.text.strip() if video_name_tag else \"Unknown\"\n",
    "    video_url = video_name_tag['href'].strip() if video_name_tag else \"No URL\"\n",
    "\n",
    "    # Extract channel name (from the second <a> tag)\n",
    "    channel_tag = entry.find_all(\"a\", href=True)\n",
    "    channel_name = channel_tag[1].text.strip() if len(channel_tag) > 1 else \"Unknown\"\n",
    "\n",
    "    # Extract video watch date and hour using regex\n",
    "    watch_date_match = re.search(r\"(\\d{1,2} \\w+ \\d{4})\", entry.text)\n",
    "    watch_hour_match = re.search(r\"(\\d{2}:\\d{2}:\\d{2})\", entry.text)\n",
    "    watch_date = watch_date_match.group(1) if watch_date_match else \"Unknown\"\n",
    "    watch_hour = watch_hour_match.group(1) if watch_hour_match else \"Unknown\"\n",
    "\n",
    "    # Append extracted data to the list\n",
    "    data.append([video_name, video_url, channel_name, watch_date, watch_hour])\n",
    "\n",
    "# Save extracted data to a CSV file\n",
    "with open(csv_file, \"w\", newline=\"\", encoding=\"utf-8\") as file:\n",
    "    writer = csv.writer(file)\n",
    "    writer.writerow([\"Video Name\", \"Video URL\", \"Channel Name\", \"Watch Date\", \"Watch Hour\"])\n",
    "    writer.writerows(data)\n",
    "\n",
    "print(f\"Data successfully saved to {csv_file}\")\n"
   ]
  },
  {
   "cell_type": "markdown",
   "metadata": {},
   "source": [
    "# Turkish Month Names Problem\n",
    "\n",
    "Since the location of my YouTube account was set to Turkey in the data they provided me with month names were in Turkish. So in order for pandas functions to work properly I had to change them to English."
   ]
  },
  {
   "cell_type": "code",
   "execution_count": 2,
   "metadata": {},
   "outputs": [
    {
     "name": "stdout",
     "output_type": "stream",
     "text": [
      "New CSV file with English month names saved to: Data/watch_data_eng.csv\n"
     ]
    }
   ],
   "source": [
    "import pandas as pd\n",
    "\n",
    "# Input and output file paths\n",
    "input_file = \"Data/watch_data.csv\"\n",
    "output_file = \"Data/watch_data_eng.csv\"\n",
    "\n",
    "# Load the existing CSV file\n",
    "df = pd.read_csv(input_file)\n",
    "\n",
    "# Dictionary to map Turkish month names to English\n",
    "month_map = {\n",
    "    \"Oca\": \"Jan\", \"Şub\": \"Feb\", \"Mar\": \"Mar\", \"Nis\": \"Apr\", \"May\": \"May\", \"Haz\": \"Jun\",\n",
    "    \"Tem\": \"Jul\", \"Ağu\": \"Aug\", \"Eyl\": \"Sep\", \"Eki\": \"Oct\", \"Kas\": \"Nov\", \"Ara\": \"Dec\"\n",
    "}\n",
    "\n",
    "# Replace Turkish month names with English equivalents in the 'Watch Date' column\n",
    "for turkish, english in month_map.items():\n",
    "    df['Watch Date'] = df['Watch Date'].str.replace(turkish, english, regex=False)\n",
    "\n",
    "# Save the updated DataFrame to a new CSV file\n",
    "df.to_csv(output_file, index=False)\n",
    "\n",
    "print(f\"New CSV file with English month names saved to: {output_file}\")\n"
   ]
  },
  {
   "cell_type": "markdown",
   "metadata": {},
   "source": [
    "# Videos Watched Over Time\n",
    "\n",
    "YouTube provided me with about 9-10 months worth of watch history data. Below visualized the daily amount of videos watched within that time period."
   ]
  },
  {
   "cell_type": "code",
   "execution_count": 2,
   "metadata": {},
   "outputs": [
    {
     "data": {
      "application/vnd.plotly.v1+json": {
       "config": {
        "plotlyServerURL": "https://plot.ly"
       },
       "data": [
        {
         "hovertemplate": "Date=%{x}<br>Videos Watched=%{y}<extra></extra>",
         "legendgroup": "",
         "line": {
          "color": "#636efa",
          "dash": "solid"
         },
         "marker": {
          "symbol": "circle"
         },
         "mode": "lines",
         "name": "",
         "orientation": "v",
         "showlegend": false,
         "type": "scatter",
         "x": [
          "2024-05-01T00:00:00",
          "2024-05-02T00:00:00",
          "2024-05-03T00:00:00",
          "2024-05-04T00:00:00",
          "2024-05-05T00:00:00",
          "2024-05-06T00:00:00",
          "2024-05-07T00:00:00",
          "2024-05-08T00:00:00",
          "2024-05-09T00:00:00",
          "2024-05-10T00:00:00",
          "2024-05-11T00:00:00",
          "2024-05-12T00:00:00",
          "2024-05-13T00:00:00",
          "2024-05-14T00:00:00",
          "2024-05-15T00:00:00",
          "2024-05-16T00:00:00",
          "2024-05-17T00:00:00",
          "2024-05-18T00:00:00",
          "2024-05-19T00:00:00",
          "2024-05-20T00:00:00",
          "2024-05-21T00:00:00",
          "2024-05-22T00:00:00",
          "2024-05-23T00:00:00",
          "2024-05-24T00:00:00",
          "2024-05-25T00:00:00",
          "2024-05-26T00:00:00",
          "2024-05-27T00:00:00",
          "2024-05-28T00:00:00",
          "2024-05-29T00:00:00",
          "2024-05-30T00:00:00",
          "2024-05-31T00:00:00",
          "2024-06-01T00:00:00",
          "2024-06-02T00:00:00",
          "2024-06-03T00:00:00",
          "2024-06-04T00:00:00",
          "2024-06-05T00:00:00",
          "2024-06-06T00:00:00",
          "2024-06-07T00:00:00",
          "2024-06-08T00:00:00",
          "2024-06-09T00:00:00",
          "2024-06-10T00:00:00",
          "2024-06-11T00:00:00",
          "2024-06-12T00:00:00",
          "2024-06-13T00:00:00",
          "2024-06-14T00:00:00",
          "2024-06-15T00:00:00",
          "2024-06-16T00:00:00",
          "2024-06-17T00:00:00",
          "2024-06-18T00:00:00",
          "2024-06-19T00:00:00",
          "2024-06-20T00:00:00",
          "2024-06-21T00:00:00",
          "2024-06-22T00:00:00",
          "2024-06-23T00:00:00",
          "2024-06-24T00:00:00",
          "2024-06-25T00:00:00",
          "2024-06-26T00:00:00",
          "2024-06-27T00:00:00",
          "2024-06-28T00:00:00",
          "2024-06-29T00:00:00",
          "2024-06-30T00:00:00",
          "2024-07-01T00:00:00",
          "2024-07-02T00:00:00",
          "2024-07-03T00:00:00",
          "2024-07-04T00:00:00",
          "2024-07-05T00:00:00",
          "2024-07-06T00:00:00",
          "2024-07-07T00:00:00",
          "2024-07-08T00:00:00",
          "2024-07-09T00:00:00",
          "2024-07-10T00:00:00",
          "2024-07-11T00:00:00",
          "2024-07-12T00:00:00",
          "2024-07-13T00:00:00",
          "2024-07-14T00:00:00",
          "2024-07-15T00:00:00",
          "2024-07-16T00:00:00",
          "2024-07-17T00:00:00",
          "2024-07-18T00:00:00",
          "2024-07-19T00:00:00",
          "2024-07-20T00:00:00",
          "2024-07-21T00:00:00",
          "2024-07-22T00:00:00",
          "2024-07-23T00:00:00",
          "2024-07-24T00:00:00",
          "2024-07-25T00:00:00",
          "2024-07-26T00:00:00",
          "2024-07-27T00:00:00",
          "2024-07-28T00:00:00",
          "2024-07-29T00:00:00",
          "2024-07-30T00:00:00",
          "2024-07-31T00:00:00",
          "2024-08-01T00:00:00",
          "2024-08-02T00:00:00",
          "2024-08-03T00:00:00",
          "2024-08-04T00:00:00",
          "2024-08-05T00:00:00",
          "2024-08-06T00:00:00",
          "2024-08-07T00:00:00",
          "2024-08-08T00:00:00",
          "2024-08-09T00:00:00",
          "2024-08-10T00:00:00",
          "2024-08-11T00:00:00",
          "2024-08-12T00:00:00",
          "2024-08-13T00:00:00",
          "2024-08-14T00:00:00",
          "2024-08-15T00:00:00",
          "2024-08-16T00:00:00",
          "2024-08-17T00:00:00",
          "2024-08-18T00:00:00",
          "2024-08-19T00:00:00",
          "2024-08-20T00:00:00",
          "2024-08-21T00:00:00",
          "2024-08-22T00:00:00",
          "2024-08-23T00:00:00",
          "2024-08-24T00:00:00",
          "2024-08-25T00:00:00",
          "2024-08-26T00:00:00",
          "2024-08-27T00:00:00",
          "2024-08-28T00:00:00",
          "2024-08-29T00:00:00",
          "2024-08-30T00:00:00",
          "2024-08-31T00:00:00",
          "2024-09-01T00:00:00",
          "2024-09-02T00:00:00",
          "2024-09-03T00:00:00",
          "2024-09-04T00:00:00",
          "2024-09-05T00:00:00",
          "2024-09-06T00:00:00",
          "2024-09-07T00:00:00",
          "2024-09-08T00:00:00",
          "2024-09-09T00:00:00",
          "2024-09-10T00:00:00",
          "2024-09-11T00:00:00",
          "2024-09-12T00:00:00",
          "2024-09-13T00:00:00",
          "2024-09-14T00:00:00",
          "2024-09-15T00:00:00",
          "2024-09-16T00:00:00",
          "2024-09-17T00:00:00",
          "2024-09-18T00:00:00",
          "2024-09-19T00:00:00",
          "2024-09-20T00:00:00",
          "2024-09-21T00:00:00",
          "2024-09-22T00:00:00",
          "2024-09-23T00:00:00",
          "2024-09-24T00:00:00",
          "2024-09-25T00:00:00",
          "2024-09-26T00:00:00",
          "2024-09-27T00:00:00",
          "2024-09-28T00:00:00",
          "2024-09-29T00:00:00",
          "2024-09-30T00:00:00",
          "2024-10-01T00:00:00",
          "2024-10-02T00:00:00",
          "2024-10-03T00:00:00",
          "2024-10-04T00:00:00",
          "2024-10-05T00:00:00",
          "2024-10-06T00:00:00",
          "2024-10-07T00:00:00",
          "2024-10-08T00:00:00",
          "2024-10-09T00:00:00",
          "2024-10-10T00:00:00",
          "2024-10-11T00:00:00",
          "2024-10-12T00:00:00",
          "2024-10-13T00:00:00",
          "2024-10-14T00:00:00",
          "2024-10-15T00:00:00",
          "2024-10-16T00:00:00",
          "2024-10-17T00:00:00",
          "2024-10-18T00:00:00",
          "2024-10-19T00:00:00",
          "2024-10-20T00:00:00",
          "2024-10-21T00:00:00",
          "2024-10-22T00:00:00",
          "2024-10-23T00:00:00",
          "2024-10-24T00:00:00",
          "2024-10-25T00:00:00",
          "2024-10-26T00:00:00",
          "2024-10-27T00:00:00",
          "2024-10-28T00:00:00",
          "2024-10-29T00:00:00",
          "2024-10-30T00:00:00",
          "2024-10-31T00:00:00",
          "2024-11-01T00:00:00",
          "2024-11-02T00:00:00",
          "2024-11-03T00:00:00",
          "2024-11-04T00:00:00",
          "2024-11-05T00:00:00",
          "2024-11-06T00:00:00",
          "2024-11-07T00:00:00",
          "2024-11-08T00:00:00",
          "2024-11-09T00:00:00",
          "2024-11-10T00:00:00",
          "2024-11-11T00:00:00",
          "2024-11-12T00:00:00",
          "2024-11-13T00:00:00",
          "2024-11-14T00:00:00",
          "2024-11-15T00:00:00",
          "2024-11-16T00:00:00",
          "2024-11-17T00:00:00",
          "2024-11-18T00:00:00",
          "2024-11-19T00:00:00",
          "2024-11-20T00:00:00",
          "2024-11-21T00:00:00",
          "2024-11-22T00:00:00",
          "2024-11-23T00:00:00",
          "2024-11-24T00:00:00",
          "2024-11-25T00:00:00"
         ],
         "xaxis": "x",
         "y": [
          148,
          169,
          52,
          102,
          224,
          305,
          456,
          372,
          238,
          502,
          224,
          159,
          236,
          157,
          351,
          311,
          198,
          109,
          161,
          309,
          131,
          134,
          497,
          314,
          333,
          416,
          462,
          479,
          847,
          471,
          503,
          858,
          664,
          501,
          404,
          520,
          297,
          394,
          1179,
          584,
          40,
          45,
          18,
          38,
          51,
          35,
          46,
          46,
          43,
          24,
          31,
          20,
          27,
          42,
          28,
          13,
          19,
          14,
          53,
          37,
          22,
          60,
          25,
          68,
          72,
          90,
          57,
          75,
          60,
          51,
          51,
          23,
          32,
          54,
          74,
          79,
          42,
          84,
          60,
          57,
          25,
          57,
          64,
          54,
          73,
          65,
          77,
          66,
          48,
          62,
          47,
          59,
          57,
          46,
          70,
          63,
          82,
          95,
          74,
          28,
          47,
          43,
          44,
          55,
          43,
          51,
          41,
          47,
          81,
          41,
          62,
          43,
          84,
          67,
          76,
          63,
          68,
          70,
          75,
          53,
          15,
          26,
          70,
          67,
          56,
          114,
          71,
          57,
          33,
          52,
          59,
          68,
          64,
          51,
          51,
          21,
          43,
          38,
          77,
          43,
          52,
          34,
          20,
          45,
          51,
          27,
          73,
          56,
          32,
          39,
          39,
          64,
          46,
          61,
          87,
          68,
          24,
          47,
          102,
          54,
          54,
          76,
          51,
          80,
          103,
          63,
          55,
          64,
          65,
          46,
          35,
          61,
          78,
          40,
          31,
          48,
          25,
          76,
          41,
          60,
          72,
          97,
          29,
          41,
          33,
          80,
          71,
          61,
          66,
          71,
          47,
          96,
          89,
          93,
          98,
          62,
          76,
          111,
          87,
          54,
          51,
          72,
          63,
          68,
          60,
          119,
          47,
          47,
          41
         ],
         "yaxis": "y"
        }
       ],
       "layout": {
        "legend": {
         "tracegroupgap": 0
        },
        "template": {
         "data": {
          "bar": [
           {
            "error_x": {
             "color": "#2a3f5f"
            },
            "error_y": {
             "color": "#2a3f5f"
            },
            "marker": {
             "line": {
              "color": "#E5ECF6",
              "width": 0.5
             },
             "pattern": {
              "fillmode": "overlay",
              "size": 10,
              "solidity": 0.2
             }
            },
            "type": "bar"
           }
          ],
          "barpolar": [
           {
            "marker": {
             "line": {
              "color": "#E5ECF6",
              "width": 0.5
             },
             "pattern": {
              "fillmode": "overlay",
              "size": 10,
              "solidity": 0.2
             }
            },
            "type": "barpolar"
           }
          ],
          "carpet": [
           {
            "aaxis": {
             "endlinecolor": "#2a3f5f",
             "gridcolor": "white",
             "linecolor": "white",
             "minorgridcolor": "white",
             "startlinecolor": "#2a3f5f"
            },
            "baxis": {
             "endlinecolor": "#2a3f5f",
             "gridcolor": "white",
             "linecolor": "white",
             "minorgridcolor": "white",
             "startlinecolor": "#2a3f5f"
            },
            "type": "carpet"
           }
          ],
          "choropleth": [
           {
            "colorbar": {
             "outlinewidth": 0,
             "ticks": ""
            },
            "type": "choropleth"
           }
          ],
          "contour": [
           {
            "colorbar": {
             "outlinewidth": 0,
             "ticks": ""
            },
            "colorscale": [
             [
              0,
              "#0d0887"
             ],
             [
              0.1111111111111111,
              "#46039f"
             ],
             [
              0.2222222222222222,
              "#7201a8"
             ],
             [
              0.3333333333333333,
              "#9c179e"
             ],
             [
              0.4444444444444444,
              "#bd3786"
             ],
             [
              0.5555555555555556,
              "#d8576b"
             ],
             [
              0.6666666666666666,
              "#ed7953"
             ],
             [
              0.7777777777777778,
              "#fb9f3a"
             ],
             [
              0.8888888888888888,
              "#fdca26"
             ],
             [
              1,
              "#f0f921"
             ]
            ],
            "type": "contour"
           }
          ],
          "contourcarpet": [
           {
            "colorbar": {
             "outlinewidth": 0,
             "ticks": ""
            },
            "type": "contourcarpet"
           }
          ],
          "heatmap": [
           {
            "colorbar": {
             "outlinewidth": 0,
             "ticks": ""
            },
            "colorscale": [
             [
              0,
              "#0d0887"
             ],
             [
              0.1111111111111111,
              "#46039f"
             ],
             [
              0.2222222222222222,
              "#7201a8"
             ],
             [
              0.3333333333333333,
              "#9c179e"
             ],
             [
              0.4444444444444444,
              "#bd3786"
             ],
             [
              0.5555555555555556,
              "#d8576b"
             ],
             [
              0.6666666666666666,
              "#ed7953"
             ],
             [
              0.7777777777777778,
              "#fb9f3a"
             ],
             [
              0.8888888888888888,
              "#fdca26"
             ],
             [
              1,
              "#f0f921"
             ]
            ],
            "type": "heatmap"
           }
          ],
          "heatmapgl": [
           {
            "colorbar": {
             "outlinewidth": 0,
             "ticks": ""
            },
            "colorscale": [
             [
              0,
              "#0d0887"
             ],
             [
              0.1111111111111111,
              "#46039f"
             ],
             [
              0.2222222222222222,
              "#7201a8"
             ],
             [
              0.3333333333333333,
              "#9c179e"
             ],
             [
              0.4444444444444444,
              "#bd3786"
             ],
             [
              0.5555555555555556,
              "#d8576b"
             ],
             [
              0.6666666666666666,
              "#ed7953"
             ],
             [
              0.7777777777777778,
              "#fb9f3a"
             ],
             [
              0.8888888888888888,
              "#fdca26"
             ],
             [
              1,
              "#f0f921"
             ]
            ],
            "type": "heatmapgl"
           }
          ],
          "histogram": [
           {
            "marker": {
             "pattern": {
              "fillmode": "overlay",
              "size": 10,
              "solidity": 0.2
             }
            },
            "type": "histogram"
           }
          ],
          "histogram2d": [
           {
            "colorbar": {
             "outlinewidth": 0,
             "ticks": ""
            },
            "colorscale": [
             [
              0,
              "#0d0887"
             ],
             [
              0.1111111111111111,
              "#46039f"
             ],
             [
              0.2222222222222222,
              "#7201a8"
             ],
             [
              0.3333333333333333,
              "#9c179e"
             ],
             [
              0.4444444444444444,
              "#bd3786"
             ],
             [
              0.5555555555555556,
              "#d8576b"
             ],
             [
              0.6666666666666666,
              "#ed7953"
             ],
             [
              0.7777777777777778,
              "#fb9f3a"
             ],
             [
              0.8888888888888888,
              "#fdca26"
             ],
             [
              1,
              "#f0f921"
             ]
            ],
            "type": "histogram2d"
           }
          ],
          "histogram2dcontour": [
           {
            "colorbar": {
             "outlinewidth": 0,
             "ticks": ""
            },
            "colorscale": [
             [
              0,
              "#0d0887"
             ],
             [
              0.1111111111111111,
              "#46039f"
             ],
             [
              0.2222222222222222,
              "#7201a8"
             ],
             [
              0.3333333333333333,
              "#9c179e"
             ],
             [
              0.4444444444444444,
              "#bd3786"
             ],
             [
              0.5555555555555556,
              "#d8576b"
             ],
             [
              0.6666666666666666,
              "#ed7953"
             ],
             [
              0.7777777777777778,
              "#fb9f3a"
             ],
             [
              0.8888888888888888,
              "#fdca26"
             ],
             [
              1,
              "#f0f921"
             ]
            ],
            "type": "histogram2dcontour"
           }
          ],
          "mesh3d": [
           {
            "colorbar": {
             "outlinewidth": 0,
             "ticks": ""
            },
            "type": "mesh3d"
           }
          ],
          "parcoords": [
           {
            "line": {
             "colorbar": {
              "outlinewidth": 0,
              "ticks": ""
             }
            },
            "type": "parcoords"
           }
          ],
          "pie": [
           {
            "automargin": true,
            "type": "pie"
           }
          ],
          "scatter": [
           {
            "fillpattern": {
             "fillmode": "overlay",
             "size": 10,
             "solidity": 0.2
            },
            "type": "scatter"
           }
          ],
          "scatter3d": [
           {
            "line": {
             "colorbar": {
              "outlinewidth": 0,
              "ticks": ""
             }
            },
            "marker": {
             "colorbar": {
              "outlinewidth": 0,
              "ticks": ""
             }
            },
            "type": "scatter3d"
           }
          ],
          "scattercarpet": [
           {
            "marker": {
             "colorbar": {
              "outlinewidth": 0,
              "ticks": ""
             }
            },
            "type": "scattercarpet"
           }
          ],
          "scattergeo": [
           {
            "marker": {
             "colorbar": {
              "outlinewidth": 0,
              "ticks": ""
             }
            },
            "type": "scattergeo"
           }
          ],
          "scattergl": [
           {
            "marker": {
             "colorbar": {
              "outlinewidth": 0,
              "ticks": ""
             }
            },
            "type": "scattergl"
           }
          ],
          "scattermapbox": [
           {
            "marker": {
             "colorbar": {
              "outlinewidth": 0,
              "ticks": ""
             }
            },
            "type": "scattermapbox"
           }
          ],
          "scatterpolar": [
           {
            "marker": {
             "colorbar": {
              "outlinewidth": 0,
              "ticks": ""
             }
            },
            "type": "scatterpolar"
           }
          ],
          "scatterpolargl": [
           {
            "marker": {
             "colorbar": {
              "outlinewidth": 0,
              "ticks": ""
             }
            },
            "type": "scatterpolargl"
           }
          ],
          "scatterternary": [
           {
            "marker": {
             "colorbar": {
              "outlinewidth": 0,
              "ticks": ""
             }
            },
            "type": "scatterternary"
           }
          ],
          "surface": [
           {
            "colorbar": {
             "outlinewidth": 0,
             "ticks": ""
            },
            "colorscale": [
             [
              0,
              "#0d0887"
             ],
             [
              0.1111111111111111,
              "#46039f"
             ],
             [
              0.2222222222222222,
              "#7201a8"
             ],
             [
              0.3333333333333333,
              "#9c179e"
             ],
             [
              0.4444444444444444,
              "#bd3786"
             ],
             [
              0.5555555555555556,
              "#d8576b"
             ],
             [
              0.6666666666666666,
              "#ed7953"
             ],
             [
              0.7777777777777778,
              "#fb9f3a"
             ],
             [
              0.8888888888888888,
              "#fdca26"
             ],
             [
              1,
              "#f0f921"
             ]
            ],
            "type": "surface"
           }
          ],
          "table": [
           {
            "cells": {
             "fill": {
              "color": "#EBF0F8"
             },
             "line": {
              "color": "white"
             }
            },
            "header": {
             "fill": {
              "color": "#C8D4E3"
             },
             "line": {
              "color": "white"
             }
            },
            "type": "table"
           }
          ]
         },
         "layout": {
          "annotationdefaults": {
           "arrowcolor": "#2a3f5f",
           "arrowhead": 0,
           "arrowwidth": 1
          },
          "autotypenumbers": "strict",
          "coloraxis": {
           "colorbar": {
            "outlinewidth": 0,
            "ticks": ""
           }
          },
          "colorscale": {
           "diverging": [
            [
             0,
             "#8e0152"
            ],
            [
             0.1,
             "#c51b7d"
            ],
            [
             0.2,
             "#de77ae"
            ],
            [
             0.3,
             "#f1b6da"
            ],
            [
             0.4,
             "#fde0ef"
            ],
            [
             0.5,
             "#f7f7f7"
            ],
            [
             0.6,
             "#e6f5d0"
            ],
            [
             0.7,
             "#b8e186"
            ],
            [
             0.8,
             "#7fbc41"
            ],
            [
             0.9,
             "#4d9221"
            ],
            [
             1,
             "#276419"
            ]
           ],
           "sequential": [
            [
             0,
             "#0d0887"
            ],
            [
             0.1111111111111111,
             "#46039f"
            ],
            [
             0.2222222222222222,
             "#7201a8"
            ],
            [
             0.3333333333333333,
             "#9c179e"
            ],
            [
             0.4444444444444444,
             "#bd3786"
            ],
            [
             0.5555555555555556,
             "#d8576b"
            ],
            [
             0.6666666666666666,
             "#ed7953"
            ],
            [
             0.7777777777777778,
             "#fb9f3a"
            ],
            [
             0.8888888888888888,
             "#fdca26"
            ],
            [
             1,
             "#f0f921"
            ]
           ],
           "sequentialminus": [
            [
             0,
             "#0d0887"
            ],
            [
             0.1111111111111111,
             "#46039f"
            ],
            [
             0.2222222222222222,
             "#7201a8"
            ],
            [
             0.3333333333333333,
             "#9c179e"
            ],
            [
             0.4444444444444444,
             "#bd3786"
            ],
            [
             0.5555555555555556,
             "#d8576b"
            ],
            [
             0.6666666666666666,
             "#ed7953"
            ],
            [
             0.7777777777777778,
             "#fb9f3a"
            ],
            [
             0.8888888888888888,
             "#fdca26"
            ],
            [
             1,
             "#f0f921"
            ]
           ]
          },
          "colorway": [
           "#636efa",
           "#EF553B",
           "#00cc96",
           "#ab63fa",
           "#FFA15A",
           "#19d3f3",
           "#FF6692",
           "#B6E880",
           "#FF97FF",
           "#FECB52"
          ],
          "font": {
           "color": "#2a3f5f"
          },
          "geo": {
           "bgcolor": "white",
           "lakecolor": "white",
           "landcolor": "#E5ECF6",
           "showlakes": true,
           "showland": true,
           "subunitcolor": "white"
          },
          "hoverlabel": {
           "align": "left"
          },
          "hovermode": "closest",
          "mapbox": {
           "style": "light"
          },
          "paper_bgcolor": "white",
          "plot_bgcolor": "#E5ECF6",
          "polar": {
           "angularaxis": {
            "gridcolor": "white",
            "linecolor": "white",
            "ticks": ""
           },
           "bgcolor": "#E5ECF6",
           "radialaxis": {
            "gridcolor": "white",
            "linecolor": "white",
            "ticks": ""
           }
          },
          "scene": {
           "xaxis": {
            "backgroundcolor": "#E5ECF6",
            "gridcolor": "white",
            "gridwidth": 2,
            "linecolor": "white",
            "showbackground": true,
            "ticks": "",
            "zerolinecolor": "white"
           },
           "yaxis": {
            "backgroundcolor": "#E5ECF6",
            "gridcolor": "white",
            "gridwidth": 2,
            "linecolor": "white",
            "showbackground": true,
            "ticks": "",
            "zerolinecolor": "white"
           },
           "zaxis": {
            "backgroundcolor": "#E5ECF6",
            "gridcolor": "white",
            "gridwidth": 2,
            "linecolor": "white",
            "showbackground": true,
            "ticks": "",
            "zerolinecolor": "white"
           }
          },
          "shapedefaults": {
           "line": {
            "color": "#2a3f5f"
           }
          },
          "ternary": {
           "aaxis": {
            "gridcolor": "white",
            "linecolor": "white",
            "ticks": ""
           },
           "baxis": {
            "gridcolor": "white",
            "linecolor": "white",
            "ticks": ""
           },
           "bgcolor": "#E5ECF6",
           "caxis": {
            "gridcolor": "white",
            "linecolor": "white",
            "ticks": ""
           }
          },
          "title": {
           "x": 0.05
          },
          "xaxis": {
           "automargin": true,
           "gridcolor": "white",
           "linecolor": "white",
           "ticks": "",
           "title": {
            "standoff": 15
           },
           "zerolinecolor": "white",
           "zerolinewidth": 2
          },
          "yaxis": {
           "automargin": true,
           "gridcolor": "white",
           "linecolor": "white",
           "ticks": "",
           "title": {
            "standoff": 15
           },
           "zerolinecolor": "white",
           "zerolinewidth": 2
          }
         }
        },
        "title": {
         "text": "Number of Videos Watched Over Time (May 2024 - Nov 2024)"
        },
        "xaxis": {
         "anchor": "y",
         "domain": [
          0,
          1
         ],
         "title": {
          "text": "Date"
         }
        },
        "yaxis": {
         "anchor": "x",
         "domain": [
          0,
          1
         ],
         "title": {
          "text": "Videos Watched"
         }
        }
       }
      }
     },
     "metadata": {},
     "output_type": "display_data"
    }
   ],
   "source": [
    "import pandas as pd\n",
    "import plotly.express as px\n",
    "\n",
    "# Load the updated CSV file\n",
    "file_path = \"Data/watch_data_eng.csv\"\n",
    "df = pd.read_csv(file_path)\n",
    "\n",
    "# Strip spaces and clean up Watch Date column\n",
    "df['Watch Date'] = df['Watch Date'].str.strip()\n",
    "\n",
    "# Convert Watch Date to datetime format\n",
    "df['Watch Date'] = pd.to_datetime(df['Watch Date'], format='%d %b %Y', errors='coerce')\n",
    "\n",
    "# Filter the data for the desired date range\n",
    "start_date = \"2024-05-01\"\n",
    "end_date = \"2024-11-25\"\n",
    "filtered_df = df[(df['Watch Date'] >= start_date) & (df['Watch Date'] <= end_date)]\n",
    "\n",
    "# Group by date and count videos watched\n",
    "watch_counts = filtered_df['Watch Date'].value_counts().reset_index()\n",
    "watch_counts.columns = ['Watch Date', 'Videos Watched']\n",
    "watch_counts = watch_counts.sort_values(by='Watch Date')\n",
    "\n",
    "# Line chart to visualize videos watched over time\n",
    "fig = px.line(watch_counts, x='Watch Date', y='Videos Watched', \n",
    "              title=\"Number of Videos Watched Over Time (May 2024 - Nov 2024)\",\n",
    "              labels={'Videos Watched': 'Videos Watched', 'Watch Date': 'Date'})\n",
    "\n",
    "# Show the chart\n",
    "fig.show()\n"
   ]
  },
  {
   "attachments": {
    "plot1.png": {
     "image/png": "[encoded data removed]"
    }
   },
   "cell_type": "markdown",
   "metadata": {},
   "source": [
    "![plot1.png](attachment:plot1.png)"
   ]
  },
  {
   "cell_type": "markdown",
   "metadata": {},
   "source": [
    "We observe here a very disportionate graph of daily video watches with a significant date being June 10th. That is the date that I stopped watchin YouTube short which is the reason why there is such a large difference in numbers before and after. This graph also proves that was a pretty good decision since we can see my video consumption was steadily increasing untill I stopped. :)\n",
    "\n",
    "Now unfortunately YouTube does not provide any way of differentiating a shorts video from a regular one in its dataset nor any information about video duration or watch length. So I created another graph that starts from the day I stopped watching YouTube shorts."
   ]
  },
  {
   "cell_type": "code",
   "execution_count": 3,
   "metadata": {},
   "outputs": [
    {
     "data": {
      "application/vnd.plotly.v1+json": {
       "config": {
        "plotlyServerURL": "https://plot.ly"
       },
       "data": [
        {
         "hovertemplate": "Date=%{x}<br>Videos Watched=%{y}<extra></extra>",
         "legendgroup": "",
         "line": {
          "color": "#636efa",
          "dash": "solid"
         },
         "marker": {
          "symbol": "circle"
         },
         "mode": "lines",
         "name": "",
         "orientation": "v",
         "showlegend": false,
         "type": "scatter",
         "x": [
          "2024-06-10T00:00:00",
          "2024-06-11T00:00:00",
          "2024-06-12T00:00:00",
          "2024-06-13T00:00:00",
          "2024-06-14T00:00:00",
          "2024-06-15T00:00:00",
          "2024-06-16T00:00:00",
          "2024-06-17T00:00:00",
          "2024-06-18T00:00:00",
          "2024-06-19T00:00:00",
          "2024-06-20T00:00:00",
          "2024-06-21T00:00:00",
          "2024-06-22T00:00:00",
          "2024-06-23T00:00:00",
          "2024-06-24T00:00:00",
          "2024-06-25T00:00:00",
          "2024-06-26T00:00:00",
          "2024-06-27T00:00:00",
          "2024-06-28T00:00:00",
          "2024-06-29T00:00:00",
          "2024-06-30T00:00:00",
          "2024-07-01T00:00:00",
          "2024-07-02T00:00:00",
          "2024-07-03T00:00:00",
          "2024-07-04T00:00:00",
          "2024-07-05T00:00:00",
          "2024-07-06T00:00:00",
          "2024-07-07T00:00:00",
          "2024-07-08T00:00:00",
          "2024-07-09T00:00:00",
          "2024-07-10T00:00:00",
          "2024-07-11T00:00:00",
          "2024-07-12T00:00:00",
          "2024-07-13T00:00:00",
          "2024-07-14T00:00:00",
          "2024-07-15T00:00:00",
          "2024-07-16T00:00:00",
          "2024-07-17T00:00:00",
          "2024-07-18T00:00:00",
          "2024-07-19T00:00:00",
          "2024-07-20T00:00:00",
          "2024-07-21T00:00:00",
          "2024-07-22T00:00:00",
          "2024-07-23T00:00:00",
          "2024-07-24T00:00:00",
          "2024-07-25T00:00:00",
          "2024-07-26T00:00:00",
          "2024-07-27T00:00:00",
          "2024-07-28T00:00:00",
          "2024-07-29T00:00:00",
          "2024-07-30T00:00:00",
          "2024-07-31T00:00:00",
          "2024-08-01T00:00:00",
          "2024-08-02T00:00:00",
          "2024-08-03T00:00:00",
          "2024-08-04T00:00:00",
          "2024-08-05T00:00:00",
          "2024-08-06T00:00:00",
          "2024-08-07T00:00:00",
          "2024-08-08T00:00:00",
          "2024-08-09T00:00:00",
          "2024-08-10T00:00:00",
          "2024-08-11T00:00:00",
          "2024-08-12T00:00:00",
          "2024-08-13T00:00:00",
          "2024-08-14T00:00:00",
          "2024-08-15T00:00:00",
          "2024-08-16T00:00:00",
          "2024-08-17T00:00:00",
          "2024-08-18T00:00:00",
          "2024-08-19T00:00:00",
          "2024-08-20T00:00:00",
          "2024-08-21T00:00:00",
          "2024-08-22T00:00:00",
          "2024-08-23T00:00:00",
          "2024-08-24T00:00:00",
          "2024-08-25T00:00:00",
          "2024-08-26T00:00:00",
          "2024-08-27T00:00:00",
          "2024-08-28T00:00:00",
          "2024-08-29T00:00:00",
          "2024-08-30T00:00:00",
          "2024-08-31T00:00:00",
          "2024-09-01T00:00:00",
          "2024-09-02T00:00:00",
          "2024-09-03T00:00:00",
          "2024-09-04T00:00:00",
          "2024-09-05T00:00:00",
          "2024-09-06T00:00:00",
          "2024-09-07T00:00:00",
          "2024-09-08T00:00:00",
          "2024-09-09T00:00:00",
          "2024-09-10T00:00:00",
          "2024-09-11T00:00:00",
          "2024-09-12T00:00:00",
          "2024-09-13T00:00:00",
          "2024-09-14T00:00:00",
          "2024-09-15T00:00:00",
          "2024-09-16T00:00:00",
          "2024-09-17T00:00:00",
          "2024-09-18T00:00:00",
          "2024-09-19T00:00:00",
          "2024-09-20T00:00:00",
          "2024-09-21T00:00:00",
          "2024-09-22T00:00:00",
          "2024-09-23T00:00:00",
          "2024-09-24T00:00:00",
          "2024-09-25T00:00:00",
          "2024-09-26T00:00:00",
          "2024-09-27T00:00:00",
          "2024-09-28T00:00:00",
          "2024-09-29T00:00:00",
          "2024-09-30T00:00:00",
          "2024-10-01T00:00:00",
          "2024-10-02T00:00:00",
          "2024-10-03T00:00:00",
          "2024-10-04T00:00:00",
          "2024-10-05T00:00:00",
          "2024-10-06T00:00:00",
          "2024-10-07T00:00:00",
          "2024-10-08T00:00:00",
          "2024-10-09T00:00:00",
          "2024-10-10T00:00:00",
          "2024-10-11T00:00:00",
          "2024-10-12T00:00:00",
          "2024-10-13T00:00:00",
          "2024-10-14T00:00:00",
          "2024-10-15T00:00:00",
          "2024-10-16T00:00:00",
          "2024-10-17T00:00:00",
          "2024-10-18T00:00:00",
          "2024-10-19T00:00:00",
          "2024-10-20T00:00:00",
          "2024-10-21T00:00:00",
          "2024-10-22T00:00:00",
          "2024-10-23T00:00:00",
          "2024-10-24T00:00:00",
          "2024-10-25T00:00:00",
          "2024-10-26T00:00:00",
          "2024-10-27T00:00:00",
          "2024-10-28T00:00:00",
          "2024-10-29T00:00:00",
          "2024-10-30T00:00:00",
          "2024-10-31T00:00:00",
          "2024-11-01T00:00:00",
          "2024-11-02T00:00:00",
          "2024-11-03T00:00:00",
          "2024-11-04T00:00:00",
          "2024-11-05T00:00:00",
          "2024-11-06T00:00:00",
          "2024-11-07T00:00:00",
          "2024-11-08T00:00:00",
          "2024-11-09T00:00:00",
          "2024-11-10T00:00:00",
          "2024-11-11T00:00:00",
          "2024-11-12T00:00:00",
          "2024-11-13T00:00:00",
          "2024-11-14T00:00:00",
          "2024-11-15T00:00:00",
          "2024-11-16T00:00:00",
          "2024-11-17T00:00:00",
          "2024-11-18T00:00:00",
          "2024-11-19T00:00:00",
          "2024-11-20T00:00:00",
          "2024-11-21T00:00:00",
          "2024-11-22T00:00:00",
          "2024-11-23T00:00:00",
          "2024-11-24T00:00:00",
          "2024-11-25T00:00:00"
         ],
         "xaxis": "x",
         "y": [
          40,
          45,
          18,
          38,
          51,
          35,
          46,
          46,
          43,
          24,
          31,
          20,
          27,
          42,
          28,
          13,
          19,
          14,
          53,
          37,
          22,
          60,
          25,
          68,
          72,
          90,
          57,
          75,
          60,
          51,
          51,
          23,
          32,
          54,
          74,
          79,
          42,
          84,
          60,
          57,
          25,
          57,
          64,
          54,
          73,
          65,
          77,
          66,
          48,
          62,
          47,
          59,
          57,
          46,
          70,
          63,
          82,
          95,
          74,
          28,
          47,
          43,
          44,
          55,
          43,
          51,
          41,
          47,
          81,
          41,
          62,
          43,
          84,
          67,
          76,
          63,
          68,
          70,
          75,
          53,
          15,
          26,
          70,
          67,
          56,
          114,
          71,
          57,
          33,
          52,
          59,
          68,
          64,
          51,
          51,
          21,
          43,
          38,
          77,
          43,
          52,
          34,
          20,
          45,
          51,
          27,
          73,
          56,
          32,
          39,
          39,
          64,
          46,
          61,
          87,
          68,
          24,
          47,
          102,
          54,
          54,
          76,
          51,
          80,
          103,
          63,
          55,
          64,
          65,
          46,
          35,
          61,
          78,
          40,
          31,
          48,
          25,
          76,
          41,
          60,
          72,
          97,
          29,
          41,
          33,
          80,
          71,
          61,
          66,
          71,
          47,
          96,
          89,
          93,
          98,
          62,
          76,
          111,
          87,
          54,
          51,
          72,
          63,
          68,
          60,
          119,
          47,
          47,
          41
         ],
         "yaxis": "y"
        }
       ],
       "layout": {
        "legend": {
         "tracegroupgap": 0
        },
        "template": {
         "data": {
          "bar": [
           {
            "error_x": {
             "color": "#2a3f5f"
            },
            "error_y": {
             "color": "#2a3f5f"
            },
            "marker": {
             "line": {
              "color": "#E5ECF6",
              "width": 0.5
             },
             "pattern": {
              "fillmode": "overlay",
              "size": 10,
              "solidity": 0.2
             }
            },
            "type": "bar"
           }
          ],
          "barpolar": [
           {
            "marker": {
             "line": {
              "color": "#E5ECF6",
              "width": 0.5
             },
             "pattern": {
              "fillmode": "overlay",
              "size": 10,
              "solidity": 0.2
             }
            },
            "type": "barpolar"
           }
          ],
          "carpet": [
           {
            "aaxis": {
             "endlinecolor": "#2a3f5f",
             "gridcolor": "white",
             "linecolor": "white",
             "minorgridcolor": "white",
             "startlinecolor": "#2a3f5f"
            },
            "baxis": {
             "endlinecolor": "#2a3f5f",
             "gridcolor": "white",
             "linecolor": "white",
             "minorgridcolor": "white",
             "startlinecolor": "#2a3f5f"
            },
            "type": "carpet"
           }
          ],
          "choropleth": [
           {
            "colorbar": {
             "outlinewidth": 0,
             "ticks": ""
            },
            "type": "choropleth"
           }
          ],
          "contour": [
           {
            "colorbar": {
             "outlinewidth": 0,
             "ticks": ""
            },
            "colorscale": [
             [
              0,
              "#0d0887"
             ],
             [
              0.1111111111111111,
              "#46039f"
             ],
             [
              0.2222222222222222,
              "#7201a8"
             ],
             [
              0.3333333333333333,
              "#9c179e"
             ],
             [
              0.4444444444444444,
              "#bd3786"
             ],
             [
              0.5555555555555556,
              "#d8576b"
             ],
             [
              0.6666666666666666,
              "#ed7953"
             ],
             [
              0.7777777777777778,
              "#fb9f3a"
             ],
             [
              0.8888888888888888,
              "#fdca26"
             ],
             [
              1,
              "#f0f921"
             ]
            ],
            "type": "contour"
           }
          ],
          "contourcarpet": [
           {
            "colorbar": {
             "outlinewidth": 0,
             "ticks": ""
            },
            "type": "contourcarpet"
           }
          ],
          "heatmap": [
           {
            "colorbar": {
             "outlinewidth": 0,
             "ticks": ""
            },
            "colorscale": [
             [
              0,
              "#0d0887"
             ],
             [
              0.1111111111111111,
              "#46039f"
             ],
             [
              0.2222222222222222,
              "#7201a8"
             ],
             [
              0.3333333333333333,
              "#9c179e"
             ],
             [
              0.4444444444444444,
              "#bd3786"
             ],
             [
              0.5555555555555556,
              "#d8576b"
             ],
             [
              0.6666666666666666,
              "#ed7953"
             ],
             [
              0.7777777777777778,
              "#fb9f3a"
             ],
             [
              0.8888888888888888,
              "#fdca26"
             ],
             [
              1,
              "#f0f921"
             ]
            ],
            "type": "heatmap"
           }
          ],
          "heatmapgl": [
           {
            "colorbar": {
             "outlinewidth": 0,
             "ticks": ""
            },
            "colorscale": [
             [
              0,
              "#0d0887"
             ],
             [
              0.1111111111111111,
              "#46039f"
             ],
             [
              0.2222222222222222,
              "#7201a8"
             ],
             [
              0.3333333333333333,
              "#9c179e"
             ],
             [
              0.4444444444444444,
              "#bd3786"
             ],
             [
              0.5555555555555556,
              "#d8576b"
             ],
             [
              0.6666666666666666,
              "#ed7953"
             ],
             [
              0.7777777777777778,
              "#fb9f3a"
             ],
             [
              0.8888888888888888,
              "#fdca26"
             ],
             [
              1,
              "#f0f921"
             ]
            ],
            "type": "heatmapgl"
           }
          ],
          "histogram": [
           {
            "marker": {
             "pattern": {
              "fillmode": "overlay",
              "size": 10,
              "solidity": 0.2
             }
            },
            "type": "histogram"
           }
          ],
          "histogram2d": [
           {
            "colorbar": {
             "outlinewidth": 0,
             "ticks": ""
            },
            "colorscale": [
             [
              0,
              "#0d0887"
             ],
             [
              0.1111111111111111,
              "#46039f"
             ],
             [
              0.2222222222222222,
              "#7201a8"
             ],
             [
              0.3333333333333333,
              "#9c179e"
             ],
             [
              0.4444444444444444,
              "#bd3786"
             ],
             [
              0.5555555555555556,
              "#d8576b"
             ],
             [
              0.6666666666666666,
              "#ed7953"
             ],
             [
              0.7777777777777778,
              "#fb9f3a"
             ],
             [
              0.8888888888888888,
              "#fdca26"
             ],
             [
              1,
              "#f0f921"
             ]
            ],
            "type": "histogram2d"
           }
          ],
          "histogram2dcontour": [
           {
            "colorbar": {
             "outlinewidth": 0,
             "ticks": ""
            },
            "colorscale": [
             [
              0,
              "#0d0887"
             ],
             [
              0.1111111111111111,
              "#46039f"
             ],
             [
              0.2222222222222222,
              "#7201a8"
             ],
             [
              0.3333333333333333,
              "#9c179e"
             ],
             [
              0.4444444444444444,
              "#bd3786"
             ],
             [
              0.5555555555555556,
              "#d8576b"
             ],
             [
              0.6666666666666666,
              "#ed7953"
             ],
             [
              0.7777777777777778,
              "#fb9f3a"
             ],
             [
              0.8888888888888888,
              "#fdca26"
             ],
             [
              1,
              "#f0f921"
             ]
            ],
            "type": "histogram2dcontour"
           }
          ],
          "mesh3d": [
           {
            "colorbar": {
             "outlinewidth": 0,
             "ticks": ""
            },
            "type": "mesh3d"
           }
          ],
          "parcoords": [
           {
            "line": {
             "colorbar": {
              "outlinewidth": 0,
              "ticks": ""
             }
            },
            "type": "parcoords"
           }
          ],
          "pie": [
           {
            "automargin": true,
            "type": "pie"
           }
          ],
          "scatter": [
           {
            "fillpattern": {
             "fillmode": "overlay",
             "size": 10,
             "solidity": 0.2
            },
            "type": "scatter"
           }
          ],
          "scatter3d": [
           {
            "line": {
             "colorbar": {
              "outlinewidth": 0,
              "ticks": ""
             }
            },
            "marker": {
             "colorbar": {
              "outlinewidth": 0,
              "ticks": ""
             }
            },
            "type": "scatter3d"
           }
          ],
          "scattercarpet": [
           {
            "marker": {
             "colorbar": {
              "outlinewidth": 0,
              "ticks": ""
             }
            },
            "type": "scattercarpet"
           }
          ],
          "scattergeo": [
           {
            "marker": {
             "colorbar": {
              "outlinewidth": 0,
              "ticks": ""
             }
            },
            "type": "scattergeo"
           }
          ],
          "scattergl": [
           {
            "marker": {
             "colorbar": {
              "outlinewidth": 0,
              "ticks": ""
             }
            },
            "type": "scattergl"
           }
          ],
          "scattermapbox": [
           {
            "marker": {
             "colorbar": {
              "outlinewidth": 0,
              "ticks": ""
             }
            },
            "type": "scattermapbox"
           }
          ],
          "scatterpolar": [
           {
            "marker": {
             "colorbar": {
              "outlinewidth": 0,
              "ticks": ""
             }
            },
            "type": "scatterpolar"
           }
          ],
          "scatterpolargl": [
           {
            "marker": {
             "colorbar": {
              "outlinewidth": 0,
              "ticks": ""
             }
            },
            "type": "scatterpolargl"
           }
          ],
          "scatterternary": [
           {
            "marker": {
             "colorbar": {
              "outlinewidth": 0,
              "ticks": ""
             }
            },
            "type": "scatterternary"
           }
          ],
          "surface": [
           {
            "colorbar": {
             "outlinewidth": 0,
             "ticks": ""
            },
            "colorscale": [
             [
              0,
              "#0d0887"
             ],
             [
              0.1111111111111111,
              "#46039f"
             ],
             [
              0.2222222222222222,
              "#7201a8"
             ],
             [
              0.3333333333333333,
              "#9c179e"
             ],
             [
              0.4444444444444444,
              "#bd3786"
             ],
             [
              0.5555555555555556,
              "#d8576b"
             ],
             [
              0.6666666666666666,
              "#ed7953"
             ],
             [
              0.7777777777777778,
              "#fb9f3a"
             ],
             [
              0.8888888888888888,
              "#fdca26"
             ],
             [
              1,
              "#f0f921"
             ]
            ],
            "type": "surface"
           }
          ],
          "table": [
           {
            "cells": {
             "fill": {
              "color": "#EBF0F8"
             },
             "line": {
              "color": "white"
             }
            },
            "header": {
             "fill": {
              "color": "#C8D4E3"
             },
             "line": {
              "color": "white"
             }
            },
            "type": "table"
           }
          ]
         },
         "layout": {
          "annotationdefaults": {
           "arrowcolor": "#2a3f5f",
           "arrowhead": 0,
           "arrowwidth": 1
          },
          "autotypenumbers": "strict",
          "coloraxis": {
           "colorbar": {
            "outlinewidth": 0,
            "ticks": ""
           }
          },
          "colorscale": {
           "diverging": [
            [
             0,
             "#8e0152"
            ],
            [
             0.1,
             "#c51b7d"
            ],
            [
             0.2,
             "#de77ae"
            ],
            [
             0.3,
             "#f1b6da"
            ],
            [
             0.4,
             "#fde0ef"
            ],
            [
             0.5,
             "#f7f7f7"
            ],
            [
             0.6,
             "#e6f5d0"
            ],
            [
             0.7,
             "#b8e186"
            ],
            [
             0.8,
             "#7fbc41"
            ],
            [
             0.9,
             "#4d9221"
            ],
            [
             1,
             "#276419"
            ]
           ],
           "sequential": [
            [
             0,
             "#0d0887"
            ],
            [
             0.1111111111111111,
             "#46039f"
            ],
            [
             0.2222222222222222,
             "#7201a8"
            ],
            [
             0.3333333333333333,
             "#9c179e"
            ],
            [
             0.4444444444444444,
             "#bd3786"
            ],
            [
             0.5555555555555556,
             "#d8576b"
            ],
            [
             0.6666666666666666,
             "#ed7953"
            ],
            [
             0.7777777777777778,
             "#fb9f3a"
            ],
            [
             0.8888888888888888,
             "#fdca26"
            ],
            [
             1,
             "#f0f921"
            ]
           ],
           "sequentialminus": [
            [
             0,
             "#0d0887"
            ],
            [
             0.1111111111111111,
             "#46039f"
            ],
            [
             0.2222222222222222,
             "#7201a8"
            ],
            [
             0.3333333333333333,
             "#9c179e"
            ],
            [
             0.4444444444444444,
             "#bd3786"
            ],
            [
             0.5555555555555556,
             "#d8576b"
            ],
            [
             0.6666666666666666,
             "#ed7953"
            ],
            [
             0.7777777777777778,
             "#fb9f3a"
            ],
            [
             0.8888888888888888,
             "#fdca26"
            ],
            [
             1,
             "#f0f921"
            ]
           ]
          },
          "colorway": [
           "#636efa",
           "#EF553B",
           "#00cc96",
           "#ab63fa",
           "#FFA15A",
           "#19d3f3",
           "#FF6692",
           "#B6E880",
           "#FF97FF",
           "#FECB52"
          ],
          "font": {
           "color": "#2a3f5f"
          },
          "geo": {
           "bgcolor": "white",
           "lakecolor": "white",
           "landcolor": "#E5ECF6",
           "showlakes": true,
           "showland": true,
           "subunitcolor": "white"
          },
          "hoverlabel": {
           "align": "left"
          },
          "hovermode": "closest",
          "mapbox": {
           "style": "light"
          },
          "paper_bgcolor": "white",
          "plot_bgcolor": "#E5ECF6",
          "polar": {
           "angularaxis": {
            "gridcolor": "white",
            "linecolor": "white",
            "ticks": ""
           },
           "bgcolor": "#E5ECF6",
           "radialaxis": {
            "gridcolor": "white",
            "linecolor": "white",
            "ticks": ""
           }
          },
          "scene": {
           "xaxis": {
            "backgroundcolor": "#E5ECF6",
            "gridcolor": "white",
            "gridwidth": 2,
            "linecolor": "white",
            "showbackground": true,
            "ticks": "",
            "zerolinecolor": "white"
           },
           "yaxis": {
            "backgroundcolor": "#E5ECF6",
            "gridcolor": "white",
            "gridwidth": 2,
            "linecolor": "white",
            "showbackground": true,
            "ticks": "",
            "zerolinecolor": "white"
           },
           "zaxis": {
            "backgroundcolor": "#E5ECF6",
            "gridcolor": "white",
            "gridwidth": 2,
            "linecolor": "white",
            "showbackground": true,
            "ticks": "",
            "zerolinecolor": "white"
           }
          },
          "shapedefaults": {
           "line": {
            "color": "#2a3f5f"
           }
          },
          "ternary": {
           "aaxis": {
            "gridcolor": "white",
            "linecolor": "white",
            "ticks": ""
           },
           "baxis": {
            "gridcolor": "white",
            "linecolor": "white",
            "ticks": ""
           },
           "bgcolor": "#E5ECF6",
           "caxis": {
            "gridcolor": "white",
            "linecolor": "white",
            "ticks": ""
           }
          },
          "title": {
           "x": 0.05
          },
          "xaxis": {
           "automargin": true,
           "gridcolor": "white",
           "linecolor": "white",
           "ticks": "",
           "title": {
            "standoff": 15
           },
           "zerolinecolor": "white",
           "zerolinewidth": 2
          },
          "yaxis": {
           "automargin": true,
           "gridcolor": "white",
           "linecolor": "white",
           "ticks": "",
           "title": {
            "standoff": 15
           },
           "zerolinecolor": "white",
           "zerolinewidth": 2
          }
         }
        },
        "title": {
         "text": "Number of Videos Watched Over Time (Starting June 10th, 2024)"
        },
        "xaxis": {
         "anchor": "y",
         "domain": [
          0,
          1
         ],
         "title": {
          "text": "Date"
         }
        },
        "yaxis": {
         "anchor": "x",
         "domain": [
          0,
          1
         ],
         "title": {
          "text": "Videos Watched"
         }
        }
       }
      }
     },
     "metadata": {},
     "output_type": "display_data"
    }
   ],
   "source": [
    "import pandas as pd\n",
    "import plotly.express as px\n",
    "\n",
    "# Load the updated CSV file\n",
    "file_path = \"Data/watch_data_eng.csv\"\n",
    "df = pd.read_csv(file_path)\n",
    "\n",
    "# Strip spaces and clean up Watch Date column\n",
    "df['Watch Date'] = df['Watch Date'].str.strip()\n",
    "\n",
    "# Convert Watch Date to datetime format\n",
    "df['Watch Date'] = pd.to_datetime(df['Watch Date'], format='%d %b %Y', errors='coerce')\n",
    "\n",
    "# Filter the data starting from June 10th, 2024\n",
    "start_date = \"2024-06-10\"\n",
    "filtered_df = df[df['Watch Date'] >= start_date]\n",
    "\n",
    "# Group by date and count videos watched\n",
    "watch_counts = filtered_df['Watch Date'].value_counts().reset_index()\n",
    "watch_counts.columns = ['Watch Date', 'Videos Watched']\n",
    "watch_counts = watch_counts.sort_values(by='Watch Date')\n",
    "\n",
    "# Line chart to visualize videos watched over time\n",
    "fig = px.line(watch_counts, x='Watch Date', y='Videos Watched', \n",
    "              title=\"Number of Videos Watched Over Time (Starting June 10th, 2024)\",\n",
    "              labels={'Videos Watched': 'Videos Watched', 'Watch Date': 'Date'})\n",
    "\n",
    "# Show the chart\n",
    "fig.show()\n"
   ]
  },
  {
   "attachments": {
    "plot2.png": {
     "image/png": "[encoded data removed]"
    }
   },
   "cell_type": "markdown",
   "metadata": {},
   "source": [
    "![plot2.png](attachment:plot2.png)"
   ]
  },
  {
   "cell_type": "markdown",
   "metadata": {},
   "source": [
    "Lastly since the graph we ended up with seemed very volatile and hard to read I decided to recrate it as a scatter plot with a regression trend line to get a better overall estimation. This showed that there was a small increase in my daily video consumption overtime."
   ]
  },
  {
   "cell_type": "code",
   "execution_count": 1,
   "metadata": {},
   "outputs": [
    {
     "data": {
      "application/vnd.plotly.v1+json": {
       "config": {
        "plotlyServerURL": "https://plot.ly"
       },
       "data": [
        {
         "hovertemplate": "Date=%{x}<br>Videos Watched=%{y}<extra></extra>",
         "legendgroup": "",
         "marker": {
          "color": "#636efa",
          "symbol": "circle"
         },
         "mode": "markers",
         "name": "",
         "orientation": "v",
         "showlegend": false,
         "type": "scatter",
         "x": [
          "2024-06-10T00:00:00",
          "2024-06-11T00:00:00",
          "2024-06-12T00:00:00",
          "2024-06-13T00:00:00",
          "2024-06-14T00:00:00",
          "2024-06-15T00:00:00",
          "2024-06-16T00:00:00",
          "2024-06-17T00:00:00",
          "2024-06-18T00:00:00",
          "2024-06-19T00:00:00",
          "2024-06-20T00:00:00",
          "2024-06-21T00:00:00",
          "2024-06-22T00:00:00",
          "2024-06-23T00:00:00",
          "2024-06-24T00:00:00",
          "2024-06-25T00:00:00",
          "2024-06-26T00:00:00",
          "2024-06-27T00:00:00",
          "2024-06-28T00:00:00",
          "2024-06-29T00:00:00",
          "2024-06-30T00:00:00",
          "2024-07-01T00:00:00",
          "2024-07-02T00:00:00",
          "2024-07-03T00:00:00",
          "2024-07-04T00:00:00",
          "2024-07-05T00:00:00",
          "2024-07-06T00:00:00",
          "2024-07-07T00:00:00",
          "2024-07-08T00:00:00",
          "2024-07-09T00:00:00",
          "2024-07-10T00:00:00",
          "2024-07-11T00:00:00",
          "2024-07-12T00:00:00",
          "2024-07-13T00:00:00",
          "2024-07-14T00:00:00",
          "2024-07-15T00:00:00",
          "2024-07-16T00:00:00",
          "2024-07-17T00:00:00",
          "2024-07-18T00:00:00",
          "2024-07-19T00:00:00",
          "2024-07-20T00:00:00",
          "2024-07-21T00:00:00",
          "2024-07-22T00:00:00",
          "2024-07-23T00:00:00",
          "2024-07-24T00:00:00",
          "2024-07-25T00:00:00",
          "2024-07-26T00:00:00",
          "2024-07-27T00:00:00",
          "2024-07-28T00:00:00",
          "2024-07-29T00:00:00",
          "2024-07-30T00:00:00",
          "2024-07-31T00:00:00",
          "2024-08-01T00:00:00",
          "2024-08-02T00:00:00",
          "2024-08-03T00:00:00",
          "2024-08-04T00:00:00",
          "2024-08-05T00:00:00",
          "2024-08-06T00:00:00",
          "2024-08-07T00:00:00",
          "2024-08-08T00:00:00",
          "2024-08-09T00:00:00",
          "2024-08-10T00:00:00",
          "2024-08-11T00:00:00",
          "2024-08-12T00:00:00",
          "2024-08-13T00:00:00",
          "2024-08-14T00:00:00",
          "2024-08-15T00:00:00",
          "2024-08-16T00:00:00",
          "2024-08-17T00:00:00",
          "2024-08-18T00:00:00",
          "2024-08-19T00:00:00",
          "2024-08-20T00:00:00",
          "2024-08-21T00:00:00",
          "2024-08-22T00:00:00",
          "2024-08-23T00:00:00",
          "2024-08-24T00:00:00",
          "2024-08-25T00:00:00",
          "2024-08-26T00:00:00",
          "2024-08-27T00:00:00",
          "2024-08-28T00:00:00",
          "2024-08-29T00:00:00",
          "2024-08-30T00:00:00",
          "2024-08-31T00:00:00",
          "2024-09-01T00:00:00",
          "2024-09-02T00:00:00",
          "2024-09-03T00:00:00",
          "2024-09-04T00:00:00",
          "2024-09-05T00:00:00",
          "2024-09-06T00:00:00",
          "2024-09-07T00:00:00",
          "2024-09-08T00:00:00",
          "2024-09-09T00:00:00",
          "2024-09-10T00:00:00",
          "2024-09-11T00:00:00",
          "2024-09-12T00:00:00",
          "2024-09-13T00:00:00",
          "2024-09-14T00:00:00",
          "2024-09-15T00:00:00",
          "2024-09-16T00:00:00",
          "2024-09-17T00:00:00",
          "2024-09-18T00:00:00",
          "2024-09-19T00:00:00",
          "2024-09-20T00:00:00",
          "2024-09-21T00:00:00",
          "2024-09-22T00:00:00",
          "2024-09-23T00:00:00",
          "2024-09-24T00:00:00",
          "2024-09-25T00:00:00",
          "2024-09-26T00:00:00",
          "2024-09-27T00:00:00",
          "2024-09-28T00:00:00",
          "2024-09-29T00:00:00",
          "2024-09-30T00:00:00",
          "2024-10-01T00:00:00",
          "2024-10-02T00:00:00",
          "2024-10-03T00:00:00",
          "2024-10-04T00:00:00",
          "2024-10-05T00:00:00",
          "2024-10-06T00:00:00",
          "2024-10-07T00:00:00",
          "2024-10-08T00:00:00",
          "2024-10-09T00:00:00",
          "2024-10-10T00:00:00",
          "2024-10-11T00:00:00",
          "2024-10-12T00:00:00",
          "2024-10-13T00:00:00",
          "2024-10-14T00:00:00",
          "2024-10-15T00:00:00",
          "2024-10-16T00:00:00",
          "2024-10-17T00:00:00",
          "2024-10-18T00:00:00",
          "2024-10-19T00:00:00",
          "2024-10-20T00:00:00",
          "2024-10-21T00:00:00",
          "2024-10-22T00:00:00",
          "2024-10-23T00:00:00",
          "2024-10-24T00:00:00",
          "2024-10-25T00:00:00",
          "2024-10-26T00:00:00",
          "2024-10-27T00:00:00",
          "2024-10-28T00:00:00",
          "2024-10-29T00:00:00",
          "2024-10-30T00:00:00",
          "2024-10-31T00:00:00",
          "2024-11-01T00:00:00",
          "2024-11-02T00:00:00",
          "2024-11-03T00:00:00",
          "2024-11-04T00:00:00",
          "2024-11-05T00:00:00",
          "2024-11-06T00:00:00",
          "2024-11-07T00:00:00",
          "2024-11-08T00:00:00",
          "2024-11-09T00:00:00",
          "2024-11-10T00:00:00",
          "2024-11-11T00:00:00",
          "2024-11-12T00:00:00",
          "2024-11-13T00:00:00",
          "2024-11-14T00:00:00",
          "2024-11-15T00:00:00",
          "2024-11-16T00:00:00",
          "2024-11-17T00:00:00",
          "2024-11-18T00:00:00",
          "2024-11-19T00:00:00",
          "2024-11-20T00:00:00",
          "2024-11-21T00:00:00",
          "2024-11-22T00:00:00",
          "2024-11-23T00:00:00",
          "2024-11-24T00:00:00",
          "2024-11-25T00:00:00"
         ],
         "xaxis": "x",
         "y": [
          40,
          45,
          18,
          38,
          51,
          35,
          46,
          46,
          43,
          24,
          31,
          20,
          27,
          42,
          28,
          13,
          19,
          14,
          53,
          37,
          22,
          60,
          25,
          68,
          72,
          90,
          57,
          75,
          60,
          51,
          51,
          23,
          32,
          54,
          74,
          79,
          42,
          84,
          60,
          57,
          25,
          57,
          64,
          54,
          73,
          65,
          77,
          66,
          48,
          62,
          47,
          59,
          57,
          46,
          70,
          63,
          82,
          95,
          74,
          28,
          47,
          43,
          44,
          55,
          43,
          51,
          41,
          47,
          81,
          41,
          62,
          43,
          84,
          67,
          76,
          63,
          68,
          70,
          75,
          53,
          15,
          26,
          70,
          67,
          56,
          114,
          71,
          57,
          33,
          52,
          59,
          68,
          64,
          51,
          51,
          21,
          43,
          38,
          77,
          43,
          52,
          34,
          20,
          45,
          51,
          27,
          73,
          56,
          32,
          39,
          39,
          64,
          46,
          61,
          87,
          68,
          24,
          47,
          102,
          54,
          54,
          76,
          51,
          80,
          103,
          63,
          55,
          64,
          65,
          46,
          35,
          61,
          78,
          40,
          31,
          48,
          25,
          76,
          41,
          60,
          72,
          97,
          29,
          41,
          33,
          80,
          71,
          61,
          66,
          71,
          47,
          96,
          89,
          93,
          98,
          62,
          76,
          111,
          87,
          54,
          51,
          72,
          63,
          68,
          60,
          119,
          47,
          47,
          41
         ],
         "yaxis": "y"
        },
        {
         "hovertemplate": "<b>OLS trendline</b><br>Videos Watched = 1.59931e-06 * Watch Date + -2703.43<br>R<sup>2</sup>=0.101526<br><br>Date=%{x}<br>Videos Watched=%{y} <b>(trend)</b><extra></extra>",
         "legendgroup": "",
         "line": {
          "color": "red"
         },
         "marker": {
          "color": "#636efa",
          "symbol": "circle"
         },
         "mode": "lines",
         "name": "",
         "showlegend": false,
         "type": "scatter",
         "x": [
          "2024-06-10T00:00:00",
          "2024-06-11T00:00:00",
          "2024-06-12T00:00:00",
          "2024-06-13T00:00:00",
          "2024-06-14T00:00:00",
          "2024-06-15T00:00:00",
          "2024-06-16T00:00:00",
          "2024-06-17T00:00:00",
          "2024-06-18T00:00:00",
          "2024-06-19T00:00:00",
          "2024-06-20T00:00:00",
          "2024-06-21T00:00:00",
          "2024-06-22T00:00:00",
          "2024-06-23T00:00:00",
          "2024-06-24T00:00:00",
          "2024-06-25T00:00:00",
          "2024-06-26T00:00:00",
          "2024-06-27T00:00:00",
          "2024-06-28T00:00:00",
          "2024-06-29T00:00:00",
          "2024-06-30T00:00:00",
          "2024-07-01T00:00:00",
          "2024-07-02T00:00:00",
          "2024-07-03T00:00:00",
          "2024-07-04T00:00:00",
          "2024-07-05T00:00:00",
          "2024-07-06T00:00:00",
          "2024-07-07T00:00:00",
          "2024-07-08T00:00:00",
          "2024-07-09T00:00:00",
          "2024-07-10T00:00:00",
          "2024-07-11T00:00:00",
          "2024-07-12T00:00:00",
          "2024-07-13T00:00:00",
          "2024-07-14T00:00:00",
          "2024-07-15T00:00:00",
          "2024-07-16T00:00:00",
          "2024-07-17T00:00:00",
          "2024-07-18T00:00:00",
          "2024-07-19T00:00:00",
          "2024-07-20T00:00:00",
          "2024-07-21T00:00:00",
          "2024-07-22T00:00:00",
          "2024-07-23T00:00:00",
          "2024-07-24T00:00:00",
          "2024-07-25T00:00:00",
          "2024-07-26T00:00:00",
          "2024-07-27T00:00:00",
          "2024-07-28T00:00:00",
          "2024-07-29T00:00:00",
          "2024-07-30T00:00:00",
          "2024-07-31T00:00:00",
          "2024-08-01T00:00:00",
          "2024-08-02T00:00:00",
          "2024-08-03T00:00:00",
          "2024-08-04T00:00:00",
          "2024-08-05T00:00:00",
          "2024-08-06T00:00:00",
          "2024-08-07T00:00:00",
          "2024-08-08T00:00:00",
          "2024-08-09T00:00:00",
          "2024-08-10T00:00:00",
          "2024-08-11T00:00:00",
          "2024-08-12T00:00:00",
          "2024-08-13T00:00:00",
          "2024-08-14T00:00:00",
          "2024-08-15T00:00:00",
          "2024-08-16T00:00:00",
          "2024-08-17T00:00:00",
          "2024-08-18T00:00:00",
          "2024-08-19T00:00:00",
          "2024-08-20T00:00:00",
          "2024-08-21T00:00:00",
          "2024-08-22T00:00:00",
          "2024-08-23T00:00:00",
          "2024-08-24T00:00:00",
          "2024-08-25T00:00:00",
          "2024-08-26T00:00:00",
          "2024-08-27T00:00:00",
          "2024-08-28T00:00:00",
          "2024-08-29T00:00:00",
          "2024-08-30T00:00:00",
          "2024-08-31T00:00:00",
          "2024-09-01T00:00:00",
          "2024-09-02T00:00:00",
          "2024-09-03T00:00:00",
          "2024-09-04T00:00:00",
          "2024-09-05T00:00:00",
          "2024-09-06T00:00:00",
          "2024-09-07T00:00:00",
          "2024-09-08T00:00:00",
          "2024-09-09T00:00:00",
          "2024-09-10T00:00:00",
          "2024-09-11T00:00:00",
          "2024-09-12T00:00:00",
          "2024-09-13T00:00:00",
          "2024-09-14T00:00:00",
          "2024-09-15T00:00:00",
          "2024-09-16T00:00:00",
          "2024-09-17T00:00:00",
          "2024-09-18T00:00:00",
          "2024-09-19T00:00:00",
          "2024-09-20T00:00:00",
          "2024-09-21T00:00:00",
          "2024-09-22T00:00:00",
          "2024-09-23T00:00:00",
          "2024-09-24T00:00:00",
          "2024-09-25T00:00:00",
          "2024-09-26T00:00:00",
          "2024-09-27T00:00:00",
          "2024-09-28T00:00:00",
          "2024-09-29T00:00:00",
          "2024-09-30T00:00:00",
          "2024-10-01T00:00:00",
          "2024-10-02T00:00:00",
          "2024-10-03T00:00:00",
          "2024-10-04T00:00:00",
          "2024-10-05T00:00:00",
          "2024-10-06T00:00:00",
          "2024-10-07T00:00:00",
          "2024-10-08T00:00:00",
          "2024-10-09T00:00:00",
          "2024-10-10T00:00:00",
          "2024-10-11T00:00:00",
          "2024-10-12T00:00:00",
          "2024-10-13T00:00:00",
          "2024-10-14T00:00:00",
          "2024-10-15T00:00:00",
          "2024-10-16T00:00:00",
          "2024-10-17T00:00:00",
          "2024-10-18T00:00:00",
          "2024-10-19T00:00:00",
          "2024-10-20T00:00:00",
          "2024-10-21T00:00:00",
          "2024-10-22T00:00:00",
          "2024-10-23T00:00:00",
          "2024-10-24T00:00:00",
          "2024-10-25T00:00:00",
          "2024-10-26T00:00:00",
          "2024-10-27T00:00:00",
          "2024-10-28T00:00:00",
          "2024-10-29T00:00:00",
          "2024-10-30T00:00:00",
          "2024-10-31T00:00:00",
          "2024-11-01T00:00:00",
          "2024-11-02T00:00:00",
          "2024-11-03T00:00:00",
          "2024-11-04T00:00:00",
          "2024-11-05T00:00:00",
          "2024-11-06T00:00:00",
          "2024-11-07T00:00:00",
          "2024-11-08T00:00:00",
          "2024-11-09T00:00:00",
          "2024-11-10T00:00:00",
          "2024-11-11T00:00:00",
          "2024-11-12T00:00:00",
          "2024-11-13T00:00:00",
          "2024-11-14T00:00:00",
          "2024-11-15T00:00:00",
          "2024-11-16T00:00:00",
          "2024-11-17T00:00:00",
          "2024-11-18T00:00:00",
          "2024-11-19T00:00:00",
          "2024-11-20T00:00:00",
          "2024-11-21T00:00:00",
          "2024-11-22T00:00:00",
          "2024-11-23T00:00:00",
          "2024-11-24T00:00:00",
          "2024-11-25T00:00:00"
         ],
         "xaxis": "x",
         "y": [
          44.15022624434141,
          44.288406842024415,
          44.42658743970742,
          44.56476803738997,
          44.70294863507297,
          44.841129232755975,
          44.979309830438524,
          45.11749042812153,
          45.25567102580453,
          45.39385162348708,
          45.532032221170084,
          45.67021281885309,
          45.80839341653564,
          45.94657401421864,
          46.084754611901644,
          46.22293520958465,
          46.3611158072672,
          46.4992964049502,
          46.637477002633204,
          46.77565760031575,
          46.91383819799876,
          47.05201879568176,
          47.19019939336431,
          47.32837999104731,
          47.46656058873032,
          47.604741186412866,
          47.74292178409587,
          47.881102381778874,
          48.01928297946142,
          48.157463577144426,
          48.29564417482743,
          48.43382477250998,
          48.57200537019298,
          48.71018596787599,
          48.84836656555899,
          48.98654716324154,
          49.12472776092454,
          49.26290835860755,
          49.401088956290096,
          49.5392695539731,
          49.6774501516561,
          49.81563074933865,
          49.953811347021656,
          50.09199194470466,
          50.23017254238721,
          50.36835314007021,
          50.506533737753216,
          50.644714335435765,
          50.78289493311877,
          50.92107553080177,
          51.05925612848432,
          51.197436726167325,
          51.33561732385033,
          51.47379792153333,
          51.61197851921588,
          51.750159116898885,
          51.88833971458189,
          52.02652031226444,
          52.16470090994744,
          52.302881507630445,
          52.441062105312994,
          52.579242702996,
          52.717423300679,
          52.85560389836155,
          52.993784496044555,
          53.13196509372756,
          53.27014569141011,
          53.40832628909311,
          53.546506886776115,
          53.684687484458664,
          53.82286808214167,
          53.96104867982467,
          54.099229277507675,
          54.237409875190224,
          54.37559047287323,
          54.51377107055623,
          54.65195166823878,
          54.790132265921784,
          54.92831286360479,
          55.06649346128734,
          55.20467405897034,
          55.342854656653344,
          55.48103525433589,
          55.6192158520189,
          55.7573964497019,
          55.89557704738445,
          56.03375764506745,
          56.17193824275046,
          56.310118840433006,
          56.44829943811601,
          56.58648003579901,
          56.72466063348156,
          56.862841231164566,
          57.00102182884757,
          57.139202426530574,
          57.27738302421312,
          57.415563621896126,
          57.55374421957913,
          57.69192481726168,
          57.83010541494468,
          57.968286012627686,
          58.106466610310235,
          58.24464720799324,
          58.38282780567624,
          58.52100840335879,
          58.659189001041796,
          58.7973695987248,
          58.93555019640735,
          59.07373079409035,
          59.211911391773356,
          59.350091989455905,
          59.48827258713891,
          59.62645318482191,
          59.764633782504916,
          59.902814380187465,
          60.04099497787047,
          60.17917557555347,
          60.31735617323602,
          60.455536770919025,
          60.59371736860203,
          60.73189796628458,
          60.87007856396758,
          61.008259161650585,
          61.146439759333134,
          61.28462035701614,
          61.42280095469914,
          61.56098155238169,
          61.699162150064694,
          61.8373427477477,
          61.97552334543025,
          62.11370394311325,
          62.251884540796254,
          62.39006513847926,
          62.52824573616181,
          62.66642633384481,
          62.804606931527815,
          62.942787529210364,
          63.08096812689337,
          63.21914872457637,
          63.35732932225892,
          63.495509919941924,
          63.63369051762493,
          63.771871115307476,
          63.91005171299048,
          64.04823231067348,
          64.18641290835603,
          64.32459350603904,
          64.46277410372204,
          64.60095470140459,
          64.7391352990876,
          64.8773158967706,
          65.0154964944536,
          65.15367709213615,
          65.29185768981915,
          65.43003828750216,
          65.5682188851847,
          65.70639948286771,
          65.84458008055071,
          65.98276067823326,
          66.12094127591627,
          66.25912187359927,
          66.39730247128182,
          66.53548306896482,
          66.67366366664783,
          66.81184426433038,
          66.95002486201338,
          67.08820545969638,
          67.22638605737893,
          67.36456665506194
         ],
         "yaxis": "y"
        }
       ],
       "layout": {
        "legend": {
         "tracegroupgap": 0
        },
        "template": {
         "data": {
          "bar": [
           {
            "error_x": {
             "color": "#2a3f5f"
            },
            "error_y": {
             "color": "#2a3f5f"
            },
            "marker": {
             "line": {
              "color": "#E5ECF6",
              "width": 0.5
             },
             "pattern": {
              "fillmode": "overlay",
              "size": 10,
              "solidity": 0.2
             }
            },
            "type": "bar"
           }
          ],
          "barpolar": [
           {
            "marker": {
             "line": {
              "color": "#E5ECF6",
              "width": 0.5
             },
             "pattern": {
              "fillmode": "overlay",
              "size": 10,
              "solidity": 0.2
             }
            },
            "type": "barpolar"
           }
          ],
          "carpet": [
           {
            "aaxis": {
             "endlinecolor": "#2a3f5f",
             "gridcolor": "white",
             "linecolor": "white",
             "minorgridcolor": "white",
             "startlinecolor": "#2a3f5f"
            },
            "baxis": {
             "endlinecolor": "#2a3f5f",
             "gridcolor": "white",
             "linecolor": "white",
             "minorgridcolor": "white",
             "startlinecolor": "#2a3f5f"
            },
            "type": "carpet"
           }
          ],
          "choropleth": [
           {
            "colorbar": {
             "outlinewidth": 0,
             "ticks": ""
            },
            "type": "choropleth"
           }
          ],
          "contour": [
           {
            "colorbar": {
             "outlinewidth": 0,
             "ticks": ""
            },
            "colorscale": [
             [
              0,
              "#0d0887"
             ],
             [
              0.1111111111111111,
              "#46039f"
             ],
             [
              0.2222222222222222,
              "#7201a8"
             ],
             [
              0.3333333333333333,
              "#9c179e"
             ],
             [
              0.4444444444444444,
              "#bd3786"
             ],
             [
              0.5555555555555556,
              "#d8576b"
             ],
             [
              0.6666666666666666,
              "#ed7953"
             ],
             [
              0.7777777777777778,
              "#fb9f3a"
             ],
             [
              0.8888888888888888,
              "#fdca26"
             ],
             [
              1,
              "#f0f921"
             ]
            ],
            "type": "contour"
           }
          ],
          "contourcarpet": [
           {
            "colorbar": {
             "outlinewidth": 0,
             "ticks": ""
            },
            "type": "contourcarpet"
           }
          ],
          "heatmap": [
           {
            "colorbar": {
             "outlinewidth": 0,
             "ticks": ""
            },
            "colorscale": [
             [
              0,
              "#0d0887"
             ],
             [
              0.1111111111111111,
              "#46039f"
             ],
             [
              0.2222222222222222,
              "#7201a8"
             ],
             [
              0.3333333333333333,
              "#9c179e"
             ],
             [
              0.4444444444444444,
              "#bd3786"
             ],
             [
              0.5555555555555556,
              "#d8576b"
             ],
             [
              0.6666666666666666,
              "#ed7953"
             ],
             [
              0.7777777777777778,
              "#fb9f3a"
             ],
             [
              0.8888888888888888,
              "#fdca26"
             ],
             [
              1,
              "#f0f921"
             ]
            ],
            "type": "heatmap"
           }
          ],
          "heatmapgl": [
           {
            "colorbar": {
             "outlinewidth": 0,
             "ticks": ""
            },
            "colorscale": [
             [
              0,
              "#0d0887"
             ],
             [
              0.1111111111111111,
              "#46039f"
             ],
             [
              0.2222222222222222,
              "#7201a8"
             ],
             [
              0.3333333333333333,
              "#9c179e"
             ],
             [
              0.4444444444444444,
              "#bd3786"
             ],
             [
              0.5555555555555556,
              "#d8576b"
             ],
             [
              0.6666666666666666,
              "#ed7953"
             ],
             [
              0.7777777777777778,
              "#fb9f3a"
             ],
             [
              0.8888888888888888,
              "#fdca26"
             ],
             [
              1,
              "#f0f921"
             ]
            ],
            "type": "heatmapgl"
           }
          ],
          "histogram": [
           {
            "marker": {
             "pattern": {
              "fillmode": "overlay",
              "size": 10,
              "solidity": 0.2
             }
            },
            "type": "histogram"
           }
          ],
          "histogram2d": [
           {
            "colorbar": {
             "outlinewidth": 0,
             "ticks": ""
            },
            "colorscale": [
             [
              0,
              "#0d0887"
             ],
             [
              0.1111111111111111,
              "#46039f"
             ],
             [
              0.2222222222222222,
              "#7201a8"
             ],
             [
              0.3333333333333333,
              "#9c179e"
             ],
             [
              0.4444444444444444,
              "#bd3786"
             ],
             [
              0.5555555555555556,
              "#d8576b"
             ],
             [
              0.6666666666666666,
              "#ed7953"
             ],
             [
              0.7777777777777778,
              "#fb9f3a"
             ],
             [
              0.8888888888888888,
              "#fdca26"
             ],
             [
              1,
              "#f0f921"
             ]
            ],
            "type": "histogram2d"
           }
          ],
          "histogram2dcontour": [
           {
            "colorbar": {
             "outlinewidth": 0,
             "ticks": ""
            },
            "colorscale": [
             [
              0,
              "#0d0887"
             ],
             [
              0.1111111111111111,
              "#46039f"
             ],
             [
              0.2222222222222222,
              "#7201a8"
             ],
             [
              0.3333333333333333,
              "#9c179e"
             ],
             [
              0.4444444444444444,
              "#bd3786"
             ],
             [
              0.5555555555555556,
              "#d8576b"
             ],
             [
              0.6666666666666666,
              "#ed7953"
             ],
             [
              0.7777777777777778,
              "#fb9f3a"
             ],
             [
              0.8888888888888888,
              "#fdca26"
             ],
             [
              1,
              "#f0f921"
             ]
            ],
            "type": "histogram2dcontour"
           }
          ],
          "mesh3d": [
           {
            "colorbar": {
             "outlinewidth": 0,
             "ticks": ""
            },
            "type": "mesh3d"
           }
          ],
          "parcoords": [
           {
            "line": {
             "colorbar": {
              "outlinewidth": 0,
              "ticks": ""
             }
            },
            "type": "parcoords"
           }
          ],
          "pie": [
           {
            "automargin": true,
            "type": "pie"
           }
          ],
          "scatter": [
           {
            "fillpattern": {
             "fillmode": "overlay",
             "size": 10,
             "solidity": 0.2
            },
            "type": "scatter"
           }
          ],
          "scatter3d": [
           {
            "line": {
             "colorbar": {
              "outlinewidth": 0,
              "ticks": ""
             }
            },
            "marker": {
             "colorbar": {
              "outlinewidth": 0,
              "ticks": ""
             }
            },
            "type": "scatter3d"
           }
          ],
          "scattercarpet": [
           {
            "marker": {
             "colorbar": {
              "outlinewidth": 0,
              "ticks": ""
             }
            },
            "type": "scattercarpet"
           }
          ],
          "scattergeo": [
           {
            "marker": {
             "colorbar": {
              "outlinewidth": 0,
              "ticks": ""
             }
            },
            "type": "scattergeo"
           }
          ],
          "scattergl": [
           {
            "marker": {
             "colorbar": {
              "outlinewidth": 0,
              "ticks": ""
             }
            },
            "type": "scattergl"
           }
          ],
          "scattermapbox": [
           {
            "marker": {
             "colorbar": {
              "outlinewidth": 0,
              "ticks": ""
             }
            },
            "type": "scattermapbox"
           }
          ],
          "scatterpolar": [
           {
            "marker": {
             "colorbar": {
              "outlinewidth": 0,
              "ticks": ""
             }
            },
            "type": "scatterpolar"
           }
          ],
          "scatterpolargl": [
           {
            "marker": {
             "colorbar": {
              "outlinewidth": 0,
              "ticks": ""
             }
            },
            "type": "scatterpolargl"
           }
          ],
          "scatterternary": [
           {
            "marker": {
             "colorbar": {
              "outlinewidth": 0,
              "ticks": ""
             }
            },
            "type": "scatterternary"
           }
          ],
          "surface": [
           {
            "colorbar": {
             "outlinewidth": 0,
             "ticks": ""
            },
            "colorscale": [
             [
              0,
              "#0d0887"
             ],
             [
              0.1111111111111111,
              "#46039f"
             ],
             [
              0.2222222222222222,
              "#7201a8"
             ],
             [
              0.3333333333333333,
              "#9c179e"
             ],
             [
              0.4444444444444444,
              "#bd3786"
             ],
             [
              0.5555555555555556,
              "#d8576b"
             ],
             [
              0.6666666666666666,
              "#ed7953"
             ],
             [
              0.7777777777777778,
              "#fb9f3a"
             ],
             [
              0.8888888888888888,
              "#fdca26"
             ],
             [
              1,
              "#f0f921"
             ]
            ],
            "type": "surface"
           }
          ],
          "table": [
           {
            "cells": {
             "fill": {
              "color": "#EBF0F8"
             },
             "line": {
              "color": "white"
             }
            },
            "header": {
             "fill": {
              "color": "#C8D4E3"
             },
             "line": {
              "color": "white"
             }
            },
            "type": "table"
           }
          ]
         },
         "layout": {
          "annotationdefaults": {
           "arrowcolor": "#2a3f5f",
           "arrowhead": 0,
           "arrowwidth": 1
          },
          "autotypenumbers": "strict",
          "coloraxis": {
           "colorbar": {
            "outlinewidth": 0,
            "ticks": ""
           }
          },
          "colorscale": {
           "diverging": [
            [
             0,
             "#8e0152"
            ],
            [
             0.1,
             "#c51b7d"
            ],
            [
             0.2,
             "#de77ae"
            ],
            [
             0.3,
             "#f1b6da"
            ],
            [
             0.4,
             "#fde0ef"
            ],
            [
             0.5,
             "#f7f7f7"
            ],
            [
             0.6,
             "#e6f5d0"
            ],
            [
             0.7,
             "#b8e186"
            ],
            [
             0.8,
             "#7fbc41"
            ],
            [
             0.9,
             "#4d9221"
            ],
            [
             1,
             "#276419"
            ]
           ],
           "sequential": [
            [
             0,
             "#0d0887"
            ],
            [
             0.1111111111111111,
             "#46039f"
            ],
            [
             0.2222222222222222,
             "#7201a8"
            ],
            [
             0.3333333333333333,
             "#9c179e"
            ],
            [
             0.4444444444444444,
             "#bd3786"
            ],
            [
             0.5555555555555556,
             "#d8576b"
            ],
            [
             0.6666666666666666,
             "#ed7953"
            ],
            [
             0.7777777777777778,
             "#fb9f3a"
            ],
            [
             0.8888888888888888,
             "#fdca26"
            ],
            [
             1,
             "#f0f921"
            ]
           ],
           "sequentialminus": [
            [
             0,
             "#0d0887"
            ],
            [
             0.1111111111111111,
             "#46039f"
            ],
            [
             0.2222222222222222,
             "#7201a8"
            ],
            [
             0.3333333333333333,
             "#9c179e"
            ],
            [
             0.4444444444444444,
             "#bd3786"
            ],
            [
             0.5555555555555556,
             "#d8576b"
            ],
            [
             0.6666666666666666,
             "#ed7953"
            ],
            [
             0.7777777777777778,
             "#fb9f3a"
            ],
            [
             0.8888888888888888,
             "#fdca26"
            ],
            [
             1,
             "#f0f921"
            ]
           ]
          },
          "colorway": [
           "#636efa",
           "#EF553B",
           "#00cc96",
           "#ab63fa",
           "#FFA15A",
           "#19d3f3",
           "#FF6692",
           "#B6E880",
           "#FF97FF",
           "#FECB52"
          ],
          "font": {
           "color": "#2a3f5f"
          },
          "geo": {
           "bgcolor": "white",
           "lakecolor": "white",
           "landcolor": "#E5ECF6",
           "showlakes": true,
           "showland": true,
           "subunitcolor": "white"
          },
          "hoverlabel": {
           "align": "left"
          },
          "hovermode": "closest",
          "mapbox": {
           "style": "light"
          },
          "paper_bgcolor": "white",
          "plot_bgcolor": "#E5ECF6",
          "polar": {
           "angularaxis": {
            "gridcolor": "white",
            "linecolor": "white",
            "ticks": ""
           },
           "bgcolor": "#E5ECF6",
           "radialaxis": {
            "gridcolor": "white",
            "linecolor": "white",
            "ticks": ""
           }
          },
          "scene": {
           "xaxis": {
            "backgroundcolor": "#E5ECF6",
            "gridcolor": "white",
            "gridwidth": 2,
            "linecolor": "white",
            "showbackground": true,
            "ticks": "",
            "zerolinecolor": "white"
           },
           "yaxis": {
            "backgroundcolor": "#E5ECF6",
            "gridcolor": "white",
            "gridwidth": 2,
            "linecolor": "white",
            "showbackground": true,
            "ticks": "",
            "zerolinecolor": "white"
           },
           "zaxis": {
            "backgroundcolor": "#E5ECF6",
            "gridcolor": "white",
            "gridwidth": 2,
            "linecolor": "white",
            "showbackground": true,
            "ticks": "",
            "zerolinecolor": "white"
           }
          },
          "shapedefaults": {
           "line": {
            "color": "#2a3f5f"
           }
          },
          "ternary": {
           "aaxis": {
            "gridcolor": "white",
            "linecolor": "white",
            "ticks": ""
           },
           "baxis": {
            "gridcolor": "white",
            "linecolor": "white",
            "ticks": ""
           },
           "bgcolor": "#E5ECF6",
           "caxis": {
            "gridcolor": "white",
            "linecolor": "white",
            "ticks": ""
           }
          },
          "title": {
           "x": 0.05
          },
          "xaxis": {
           "automargin": true,
           "gridcolor": "white",
           "linecolor": "white",
           "ticks": "",
           "title": {
            "standoff": 15
           },
           "zerolinecolor": "white",
           "zerolinewidth": 2
          },
          "yaxis": {
           "automargin": true,
           "gridcolor": "white",
           "linecolor": "white",
           "ticks": "",
           "title": {
            "standoff": 15
           },
           "zerolinecolor": "white",
           "zerolinewidth": 2
          }
         }
        },
        "title": {
         "text": "Number of Videos Watched Over Time (With Regression Trend Line)"
        },
        "xaxis": {
         "anchor": "y",
         "domain": [
          0,
          1
         ],
         "title": {
          "text": "Date"
         }
        },
        "yaxis": {
         "anchor": "x",
         "domain": [
          0,
          1
         ],
         "title": {
          "text": "Videos Watched"
         }
        }
       }
      }
     },
     "metadata": {},
     "output_type": "display_data"
    }
   ],
   "source": [
    "import pandas as pd\n",
    "import plotly.express as px\n",
    "\n",
    "# Load the updated CSV file\n",
    "file_path = \"Data/watch_data_eng.csv\"\n",
    "df = pd.read_csv(file_path)\n",
    "\n",
    "# Clean Watch Date column\n",
    "df['Watch Date'] = df['Watch Date'].str.strip()\n",
    "df['Watch Date'] = pd.to_datetime(df['Watch Date'], format='%d %b %Y', errors='coerce')\n",
    "\n",
    "# Filter data starting from June 10th, 2024\n",
    "start_date = \"2024-06-10\"\n",
    "filtered_df = df[df['Watch Date'] >= start_date]\n",
    "\n",
    "# Group by date and count videos watched\n",
    "watch_counts = filtered_df['Watch Date'].value_counts().reset_index()\n",
    "watch_counts.columns = ['Watch Date', 'Videos Watched']\n",
    "watch_counts = watch_counts.sort_values(by='Watch Date')\n",
    "\n",
    "# Regression trendline chart\n",
    "fig = px.scatter(watch_counts, x='Watch Date', y='Videos Watched', \n",
    "                 title=\"Number of Videos Watched Over Time (With Regression Trend Line)\",\n",
    "                 labels={'Videos Watched': 'Videos Watched', 'Watch Date': 'Date'},\n",
    "                 trendline=\"ols\",  # Add regression line\n",
    "                 trendline_color_override=\"red\")  # Make trend line red for clarity\n",
    "\n",
    "# Show the chart\n",
    "fig.show()\n"
   ]
  },
  {
   "attachments": {
    "plot3.png": {
     "image/png": "[encoded data removed]"
    }
   },
   "cell_type": "markdown",
   "metadata": {},
   "source": [
    "![plot3.png](attachment:plot3.png)"
   ]
  }
 ],
 "metadata": {
  "kernelspec": {
   "display_name": "Python 3",
   "language": "python",
   "name": "python3"
  },
  "language_info": {
   "codemirror_mode": {
    "name": "ipython",
    "version": 3
   },
   "file_extension": ".py",
   "mimetype": "text/x-python",
   "name": "python",
   "nbconvert_exporter": "python",
   "pygments_lexer": "ipython3",
   "version": "3.11.9"
  }
 },
 "nbformat": 4,
 "nbformat_minor": 2
}
